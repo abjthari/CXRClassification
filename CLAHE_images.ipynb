{
 "cells": [
  {
   "cell_type": "code",
   "execution_count": null,
   "metadata": {
    "colab": {
     "base_uri": "https://localhost:8080/"
    },
    "id": "gc8JvrIZXCt7",
    "outputId": "746601e8-0e65-4d61-eec8-3393b94e66c4"
   },
   "outputs": [
    {
     "name": "stdout",
     "output_type": "stream",
     "text": [
      "Drive already mounted at /content/gdrive; to attempt to forcibly remount, call drive.mount(\"/content/gdrive\", force_remount=True).\n"
     ]
    }
   ],
   "source": [
    "from google.colab import drive\n",
    "from google.colab import files\n",
    "drive.mount('/content/gdrive')"
   ]
  },
  {
   "cell_type": "code",
   "execution_count": null,
   "metadata": {
    "id": "NLTHabfWXDck"
   },
   "outputs": [],
   "source": [
    "import numpy as np \n",
    "import pandas as pd \n",
    "import os\n",
    "import seaborn as sns\n",
    "import matplotlib.pyplot as plt\n",
    "import matplotlib.patches as patches\n",
    "%matplotlib inline\n",
    "import glob\n",
    "\n",
    "\n",
    "from PIL import Image\n",
    "\n",
    "import cv2 as cv2"
   ]
  },
  {
   "cell_type": "code",
   "execution_count": null,
   "metadata": {
    "colab": {
     "base_uri": "https://localhost:8080/"
    },
    "id": "VRiafIXHXlah",
    "outputId": "dced8719-3586-45d4-f290-affeb55e735e"
   },
   "outputs": [
    {
     "name": "stdout",
     "output_type": "stream",
     "text": [
      "0_/content/gdrive/MyDrive/xrays-and-gradcam-master/data/COVID-19_Radiography_Dataset/val/pneumonia/Viral Pneumonia-966.png\n",
      "1_/content/gdrive/MyDrive/xrays-and-gradcam-master/data/COVID-19_Radiography_Dataset/val/pneumonia/Viral Pneumonia-1069.png\n",
      "2_/content/gdrive/MyDrive/xrays-and-gradcam-master/data/COVID-19_Radiography_Dataset/val/pneumonia/Viral Pneumonia-1256.png\n",
      "3_/content/gdrive/MyDrive/xrays-and-gradcam-master/data/COVID-19_Radiography_Dataset/val/pneumonia/Viral Pneumonia-1258.png\n",
      "4_/content/gdrive/MyDrive/xrays-and-gradcam-master/data/COVID-19_Radiography_Dataset/val/pneumonia/Viral Pneumonia-1004.png\n",
      "5_/content/gdrive/MyDrive/xrays-and-gradcam-master/data/COVID-19_Radiography_Dataset/val/pneumonia/Viral Pneumonia-1144.png\n",
      "6_/content/gdrive/MyDrive/xrays-and-gradcam-master/data/COVID-19_Radiography_Dataset/val/pneumonia/Viral Pneumonia-1012.png\n",
      "7_/content/gdrive/MyDrive/xrays-and-gradcam-master/data/COVID-19_Radiography_Dataset/val/pneumonia/Viral Pneumonia-733.png\n",
      "8_/content/gdrive/MyDrive/xrays-and-gradcam-master/data/COVID-19_Radiography_Dataset/val/pneumonia/Viral Pneumonia-1172.png\n",
      "9_/content/gdrive/MyDrive/xrays-and-gradcam-master/data/COVID-19_Radiography_Dataset/val/pneumonia/Viral Pneumonia-212.png\n",
      "10_/content/gdrive/MyDrive/xrays-and-gradcam-master/data/COVID-19_Radiography_Dataset/val/pneumonia/Viral Pneumonia-444.png\n",
      "11_/content/gdrive/MyDrive/xrays-and-gradcam-master/data/COVID-19_Radiography_Dataset/val/pneumonia/Viral Pneumonia-548.png\n",
      "12_/content/gdrive/MyDrive/xrays-and-gradcam-master/data/COVID-19_Radiography_Dataset/val/pneumonia/Viral Pneumonia-1077.png\n",
      "13_/content/gdrive/MyDrive/xrays-and-gradcam-master/data/COVID-19_Radiography_Dataset/val/pneumonia/Viral Pneumonia-822.png\n",
      "14_/content/gdrive/MyDrive/xrays-and-gradcam-master/data/COVID-19_Radiography_Dataset/val/pneumonia/Viral Pneumonia-854.png\n",
      "15_/content/gdrive/MyDrive/xrays-and-gradcam-master/data/COVID-19_Radiography_Dataset/val/pneumonia/Viral Pneumonia-102.png\n",
      "16_/content/gdrive/MyDrive/xrays-and-gradcam-master/data/COVID-19_Radiography_Dataset/val/pneumonia/Viral Pneumonia-175.png\n",
      "17_/content/gdrive/MyDrive/xrays-and-gradcam-master/data/COVID-19_Radiography_Dataset/val/pneumonia/Viral Pneumonia-633.png\n",
      "18_/content/gdrive/MyDrive/xrays-and-gradcam-master/data/COVID-19_Radiography_Dataset/val/pneumonia/Viral Pneumonia-1050.png\n",
      "19_/content/gdrive/MyDrive/xrays-and-gradcam-master/data/COVID-19_Radiography_Dataset/val/pneumonia/Viral Pneumonia-314.png\n",
      "20_/content/gdrive/MyDrive/xrays-and-gradcam-master/data/COVID-19_Radiography_Dataset/val/pneumonia/Viral Pneumonia-600.png\n",
      "21_/content/gdrive/MyDrive/xrays-and-gradcam-master/data/COVID-19_Radiography_Dataset/val/pneumonia/Viral Pneumonia-395.png\n",
      "22_/content/gdrive/MyDrive/xrays-and-gradcam-master/data/COVID-19_Radiography_Dataset/val/pneumonia/Viral Pneumonia-233.png\n",
      "23_/content/gdrive/MyDrive/xrays-and-gradcam-master/data/COVID-19_Radiography_Dataset/val/pneumonia/Viral Pneumonia-863.png\n",
      "24_/content/gdrive/MyDrive/xrays-and-gradcam-master/data/COVID-19_Radiography_Dataset/val/pneumonia/Viral Pneumonia-24.png\n",
      "25_/content/gdrive/MyDrive/xrays-and-gradcam-master/data/COVID-19_Radiography_Dataset/val/pneumonia/Viral Pneumonia-1017.png\n",
      "26_/content/gdrive/MyDrive/xrays-and-gradcam-master/data/COVID-19_Radiography_Dataset/val/pneumonia/Viral Pneumonia-365.png\n",
      "27_/content/gdrive/MyDrive/xrays-and-gradcam-master/data/COVID-19_Radiography_Dataset/val/pneumonia/Viral Pneumonia-245.png\n",
      "28_/content/gdrive/MyDrive/xrays-and-gradcam-master/data/COVID-19_Radiography_Dataset/val/pneumonia/Viral Pneumonia-202.png\n",
      "29_/content/gdrive/MyDrive/xrays-and-gradcam-master/data/COVID-19_Radiography_Dataset/val/pneumonia/Viral Pneumonia-158.png\n",
      "30_/content/gdrive/MyDrive/xrays-and-gradcam-master/data/COVID-19_Radiography_Dataset/val/pneumonia/Viral Pneumonia-149.png\n",
      "31_/content/gdrive/MyDrive/xrays-and-gradcam-master/data/COVID-19_Radiography_Dataset/val/pneumonia/Viral Pneumonia-553.png\n",
      "32_/content/gdrive/MyDrive/xrays-and-gradcam-master/data/COVID-19_Radiography_Dataset/val/pneumonia/Viral Pneumonia-1106.png\n",
      "33_/content/gdrive/MyDrive/xrays-and-gradcam-master/data/COVID-19_Radiography_Dataset/val/pneumonia/Viral Pneumonia-185.png\n",
      "34_/content/gdrive/MyDrive/xrays-and-gradcam-master/data/COVID-19_Radiography_Dataset/val/pneumonia/Viral Pneumonia-1249.png\n",
      "35_/content/gdrive/MyDrive/xrays-and-gradcam-master/data/COVID-19_Radiography_Dataset/val/pneumonia/Viral Pneumonia-398.png\n",
      "36_/content/gdrive/MyDrive/xrays-and-gradcam-master/data/COVID-19_Radiography_Dataset/val/pneumonia/Viral Pneumonia-1148.png\n",
      "37_/content/gdrive/MyDrive/xrays-and-gradcam-master/data/COVID-19_Radiography_Dataset/val/pneumonia/Viral Pneumonia-428.png\n",
      "38_/content/gdrive/MyDrive/xrays-and-gradcam-master/data/COVID-19_Radiography_Dataset/val/pneumonia/Viral Pneumonia-326.png\n",
      "39_/content/gdrive/MyDrive/xrays-and-gradcam-master/data/COVID-19_Radiography_Dataset/val/pneumonia/Viral Pneumonia-518.png\n",
      "40_/content/gdrive/MyDrive/xrays-and-gradcam-master/data/COVID-19_Radiography_Dataset/val/pneumonia/Viral Pneumonia-688.png\n",
      "41_/content/gdrive/MyDrive/xrays-and-gradcam-master/data/COVID-19_Radiography_Dataset/val/pneumonia/Viral Pneumonia-1316.png\n",
      "42_/content/gdrive/MyDrive/xrays-and-gradcam-master/data/COVID-19_Radiography_Dataset/val/pneumonia/Viral Pneumonia-265.png\n",
      "43_/content/gdrive/MyDrive/xrays-and-gradcam-master/data/COVID-19_Radiography_Dataset/val/pneumonia/Viral Pneumonia-1152.png\n",
      "44_/content/gdrive/MyDrive/xrays-and-gradcam-master/data/COVID-19_Radiography_Dataset/val/pneumonia/Viral Pneumonia-706.png\n",
      "45_/content/gdrive/MyDrive/xrays-and-gradcam-master/data/COVID-19_Radiography_Dataset/val/pneumonia/Viral Pneumonia-835.png\n",
      "46_/content/gdrive/MyDrive/xrays-and-gradcam-master/data/COVID-19_Radiography_Dataset/val/pneumonia/Viral Pneumonia-641.png\n",
      "47_/content/gdrive/MyDrive/xrays-and-gradcam-master/data/COVID-19_Radiography_Dataset/val/pneumonia/Viral Pneumonia-403.png\n",
      "48_/content/gdrive/MyDrive/xrays-and-gradcam-master/data/COVID-19_Radiography_Dataset/val/pneumonia/Viral Pneumonia-1238.png\n",
      "49_/content/gdrive/MyDrive/xrays-and-gradcam-master/data/COVID-19_Radiography_Dataset/val/pneumonia/Viral Pneumonia-380.png\n",
      "50_/content/gdrive/MyDrive/xrays-and-gradcam-master/data/COVID-19_Radiography_Dataset/val/pneumonia/Viral Pneumonia-435.png\n",
      "51_/content/gdrive/MyDrive/xrays-and-gradcam-master/data/COVID-19_Radiography_Dataset/val/pneumonia/Viral Pneumonia-740.png\n",
      "52_/content/gdrive/MyDrive/xrays-and-gradcam-master/data/COVID-19_Radiography_Dataset/val/pneumonia/Viral Pneumonia-160.png\n",
      "53_/content/gdrive/MyDrive/xrays-and-gradcam-master/data/COVID-19_Radiography_Dataset/val/pneumonia/Viral Pneumonia-1205.png\n",
      "54_/content/gdrive/MyDrive/xrays-and-gradcam-master/data/COVID-19_Radiography_Dataset/val/pneumonia/Viral Pneumonia-532.png\n",
      "55_/content/gdrive/MyDrive/xrays-and-gradcam-master/data/COVID-19_Radiography_Dataset/val/pneumonia/Viral Pneumonia-961.png\n",
      "56_/content/gdrive/MyDrive/xrays-and-gradcam-master/data/COVID-19_Radiography_Dataset/val/pneumonia/Viral Pneumonia-506.png\n",
      "57_/content/gdrive/MyDrive/xrays-and-gradcam-master/data/COVID-19_Radiography_Dataset/val/pneumonia/Viral Pneumonia-1138.png\n",
      "58_/content/gdrive/MyDrive/xrays-and-gradcam-master/data/COVID-19_Radiography_Dataset/val/pneumonia/Viral Pneumonia-344.png\n",
      "59_/content/gdrive/MyDrive/xrays-and-gradcam-master/data/COVID-19_Radiography_Dataset/val/pneumonia/Viral Pneumonia-907.png\n"
     ]
    }
   ],
   "source": [
    "\n",
    "\n",
    "all_img = glob.glob('/content/gdrive/MyDrive/xrays-and-gradcam-master/data/COVID-19_Radiography_Dataset/val/pneumonia/*.png')\n",
    "other_dir = '/content/gdrive/MyDrive/xrays-and-gradcam-master/data/COVID-19_Radiography_Dataset/eval/pneumonia'\n",
    "for img_id, img_path in enumerate(all_img):\n",
    "    print(img_id,img_path,sep=\"_\")\n",
    "    img = cv2.imread(img_path,0)\n",
    "\n",
    "\n",
    "    clahe = cv2.createCLAHE(clipLimit=2.0, tileGridSize=(20,20))\n",
    "    cl1 = clahe.apply(img)\n",
    "    cv2.imwrite(f'{other_dir}/e_pneumonia_{img_id}.png',cl1)"
   ]
  }
 ],
 "metadata": {
  "colab": {
   "provenance": []
  },
  "kernelspec": {
   "display_name": "Python 3 (ipykernel)",
   "language": "python",
   "name": "python3"
  },
  "language_info": {
   "codemirror_mode": {
    "name": "ipython",
    "version": 3
   },
   "file_extension": ".py",
   "mimetype": "text/x-python",
   "name": "python",
   "nbconvert_exporter": "python",
   "pygments_lexer": "ipython3",
   "version": "3.9.13"
  }
 },
 "nbformat": 4,
 "nbformat_minor": 1
}
