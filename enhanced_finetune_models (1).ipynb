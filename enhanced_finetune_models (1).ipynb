{
 "cells": [
  {
   "cell_type": "code",
   "execution_count": null,
   "metadata": {
    "id": "j6Lx3muqILWw"
   },
   "outputs": [],
   "source": [
    "import e_utils\n",
    "import e_networks\n",
    "import e_ensemble\n",
    "import Ensemble1\n",
    "import Ensemble2\n",
    "from e_plot_utils import plot_summary\n",
    "\n",
    "import torch\n",
    "import torch.nn as nn\n",
    "import torch.optim as optim\n",
    "import torchvision\n",
    "import torchvision.datasets as datasets\n",
    "from torch.utils.data import DataLoader, WeightedRandomSampler\n",
    "\n",
    "device = torch.device('cuda' if torch.cuda.is_available() else 'cpu')"
   ]
  },
  {
   "cell_type": "code",
   "execution_count": null,
   "metadata": {
    "id": "zD9VVf7tILXC"
   },
   "outputs": [],
   "source": [
    "train_set = datasets.ImageFolder(root=e_utils.dirs['train'], transform=e_utils.transform['train'])\n",
    "val_set = datasets.ImageFolder(root=e_utils.dirs['val'], transform=e_utils.transform['eval'])"
   ]
  },
  {
   "cell_type": "code",
   "execution_count": null,
   "metadata": {
    "id": "L9y7jDG-ILXD"
   },
   "outputs": [],
   "source": [
    "class_freq = torch.as_tensor(train_set.targets).bincount()\n",
    "weight = 1 / class_freq\n",
    "samples_weight = weight[train_set.targets]\n",
    "sampler = WeightedRandomSampler(samples_weight, len(samples_weight), replacement=True)\n",
    "\n",
    "train_dl = DataLoader(train_set, batch_size=10, sampler=sampler, num_workers=2, worker_init_fn=e_utils.wif)\n",
    "valid_dl = DataLoader(val_set, batch_size=20)"
   ]
  },
  {
   "cell_type": "code",
   "execution_count": null,
   "metadata": {
    "id": "7CoH0oRlUq2d"
   },
   "outputs": [],
   "source": [
    "epochs = 15\n",
    "criterion = nn.CrossEntropyLoss()"
   ]
  },
  {
   "cell_type": "markdown",
   "metadata": {},
   "source": [
    "### AlexNet"
   ]
  },
  {
   "cell_type": "code",
   "execution_count": null,
   "metadata": {},
   "outputs": [],
   "source": [
    "alexnet = e_networks.get_alexnet(pretrained=True, out_features=4)\n",
    "alexnet=alexnet.cuda()"
   ]
  },
  {
   "cell_type": "code",
   "execution_count": null,
   "metadata": {},
   "outputs": [],
   "source": [
    "e_utils.fit(\n",
    "    epochs=epochs,\n",
    "    model=alexnet,\n",
    "    criterion=criterion,\n",
    "    optimizer=optim.Adam(alexnet.parameters(), lr=3e-5),\n",
    "    train_dl=train_dl,\n",
    "    valid_dl=valid_dl\n",
    ")"
   ]
  },
  {
   "cell_type": "code",
   "execution_count": null,
   "metadata": {},
   "outputs": [],
   "source": [
    "plot_summary('outputs/CSVs/ee_alexnet.csv')"
   ]
  },
  {
   "cell_type": "markdown",
   "metadata": {},
   "source": [
    "### Inception_Net V3"
   ]
  },
  {
   "cell_type": "code",
   "execution_count": null,
   "metadata": {},
   "outputs": [],
   "source": [
    "inception_v3 = e_networks.get_inception_v3(pretrained=True, out_features=4)\n",
    "inception_v3=inception_v3.cuda()"
   ]
  },
  {
   "cell_type": "code",
   "execution_count": null,
   "metadata": {},
   "outputs": [],
   "source": [
    "e_utils.fit(\n",
    "    epochs=epochs,\n",
    "    model=inception_v3,\n",
    "    criterion=criterion,\n",
    "    optimizer=optim.Adam(inception_v3.parameters(), lr=3e-5),\n",
    "    train_dl=train_dl,\n",
    "    valid_dl=valid_dl\n",
    ")"
   ]
  },
  {
   "cell_type": "code",
   "execution_count": null,
   "metadata": {},
   "outputs": [],
   "source": [
    "plot_summary('outputs/CSVs/e_inception3.csv')"
   ]
  },
  {
   "cell_type": "markdown",
   "metadata": {},
   "source": [
    "### SqueezeNet"
   ]
  },
  {
   "cell_type": "code",
   "execution_count": null,
   "metadata": {},
   "outputs": [],
   "source": [
    "squeezenet1_0 = e_networks.get_squeezenet1_0(pretrained=True, out_features=4)\n",
    "squeezenet1_0=squeezenet1_0.cuda()"
   ]
  },
  {
   "cell_type": "code",
   "execution_count": null,
   "metadata": {},
   "outputs": [],
   "source": [
    "e_utils.fit(\n",
    "    epochs=epochs,\n",
    "    model=squeezenet1_0,\n",
    "    name=None,\n",
    "    criterion=criterion,\n",
    "    optimizer=optim.Adam(squeezenet1_0.parameters(), lr=3e-5),\n",
    "    train_dl=train_dl,\n",
    "    valid_dl=valid_dl\n",
    ")"
   ]
  },
  {
   "cell_type": "code",
   "execution_count": null,
   "metadata": {},
   "outputs": [],
   "source": [
    "plot_summary('outputs/CSVs/e_squeezenet.csv')"
   ]
  },
  {
   "cell_type": "markdown",
   "metadata": {
    "id": "4pkZe3znqgcu"
   },
   "source": [
    "### VGG-16"
   ]
  },
  {
   "cell_type": "code",
   "execution_count": null,
   "metadata": {
    "id": "Piv8d2I4Uq2e"
   },
   "outputs": [],
   "source": [
    "vgg16 = e_networks.get_vgg16(pretrained=True, out_features=4)\n",
    "vgg16=vgg16.cuda()"
   ]
  },
  {
   "cell_type": "code",
   "execution_count": null,
   "metadata": {
    "id": "90ol63KFUq2e"
   },
   "outputs": [],
   "source": [
    "e_utils.fit(\n",
    "    epochs=epochs,\n",
    "    model=vgg16,\n",
    "    name=None,\n",
    "    criterion=criterion,\n",
    "    optimizer=optim.Adam(vgg16.parameters(), lr=3e-5),\n",
    "    train_dl=train_dl,\n",
    "    valid_dl=valid_dl\n",
    ")"
   ]
  },
  {
   "cell_type": "code",
   "execution_count": null,
   "metadata": {
    "id": "KZ0I3M55rkCI"
   },
   "outputs": [],
   "source": [
    "plot_summary('outputs/CSVs/e_vgg.csv')"
   ]
  },
  {
   "cell_type": "markdown",
   "metadata": {
    "id": "IyofJR-Tqgcx"
   },
   "source": [
    "### ResNet-18"
   ]
  },
  {
   "cell_type": "code",
   "execution_count": null,
   "metadata": {
    "colab": {
     "base_uri": "https://localhost:8080/",
     "height": 156,
     "referenced_widgets": [
      "d282b59c4b63474a86739fe9901be25f",
      "94a4b789b22e46149f4e56c809bc3dbb",
      "77a9ace793034be89642a0ffc603aeae",
      "4a89cec2aebb4543be4ee93734f9ed83",
      "5b1162275d7e4c66b387ff4c104a50a5",
      "5a4b80ffbe154ec890d5855360823064",
      "b262ae7d78534e679e24c917ceb7d91f",
      "f40d3933bd2d43059f685e81a59487ed",
      "bf98834b82374cdfb5065f7e91eced33",
      "535aeb8c4006421f991c2492162d883d",
      "46b59c2f3d28425cbdc311b2ca2ed9e7"
     ]
    },
    "id": "EOS__UpqUq2f",
    "outputId": "99484379-5e78-4a9d-87df-3cb3a0a0dc80"
   },
   "outputs": [],
   "source": [
    "resnet18 = e_networks.get_resnet18(pretrained=True, out_features=4)\n",
    "resnet18.cuda()"
   ]
  },
  {
   "cell_type": "code",
   "execution_count": null,
   "metadata": {
    "colab": {
     "base_uri": "https://localhost:8080/",
     "height": 397
    },
    "id": "IoH23wktILXG",
    "outputId": "c29981f8-ac8a-441e-b696-bad767751800"
   },
   "outputs": [],
   "source": [
    "e_utils.fit(\n",
    "    epochs=epochs,\n",
    "    model=resnet18,\n",
    "    criterion=criterion,\n",
    "    optimizer=optim.Adam(resnet18.parameters(), lr=3e-5),\n",
    "    train_dl=train_dl,\n",
    "    valid_dl=valid_dl\n",
    ")"
   ]
  },
  {
   "cell_type": "code",
   "execution_count": null,
   "metadata": {
    "id": "DOdRlUuhrkCN"
   },
   "outputs": [],
   "source": [
    "plot_summary('outputs/CSVs/ee_resnet.csv')"
   ]
  },
  {
   "cell_type": "markdown",
   "metadata": {},
   "source": [
    "### EfficientNet-B0"
   ]
  },
  {
   "cell_type": "code",
   "execution_count": null,
   "metadata": {},
   "outputs": [],
   "source": [
    "efficientnet_b0 = e_networks.get_efficientnet_b0(pretrained=True, out_features=4)\n",
    "efficientnet_b0.cuda()"
   ]
  },
  {
   "cell_type": "code",
   "execution_count": null,
   "metadata": {},
   "outputs": [],
   "source": [
    "e_utils.fit(\n",
    "    epochs=epochs,\n",
    "    model=efficientnet_b0,\n",
    "    criterion=criterion,\n",
    "    optimizer=optim.Adam(efficientnet_b0.parameters(), lr=3e-5),\n",
    "    train_dl=train_dl,\n",
    "    valid_dl=valid_dl\n",
    ")"
   ]
  },
  {
   "cell_type": "code",
   "execution_count": null,
   "metadata": {
    "scrolled": true
   },
   "outputs": [],
   "source": [
    "plot_summary('outputs/CSVs/ee_efficientnet.csv')"
   ]
  },
  {
   "cell_type": "markdown",
   "metadata": {
    "id": "-uJhbXnZqgcz"
   },
   "source": [
    "### DenseNet-121"
   ]
  },
  {
   "cell_type": "code",
   "execution_count": null,
   "metadata": {
    "id": "eD0K2-rZUq2g"
   },
   "outputs": [],
   "source": [
    "densenet121 = e_networks.get_densenet121(pretrained=True, out_features=4)\n",
    "densenet121.cuda()"
   ]
  },
  {
   "cell_type": "code",
   "execution_count": null,
   "metadata": {
    "id": "lW-RcxAGUq2h"
   },
   "outputs": [],
   "source": [
    "e_utils.fit(\n",
    "    epochs=epochs,\n",
    "    model=densenet121,\n",
    "    criterion=criterion,\n",
    "    optimizer=optim.Adam(densenet121.parameters(), lr=3e-5),\n",
    "    train_dl=train_dl,\n",
    "    valid_dl=valid_dl\n",
    ")"
   ]
  },
  {
   "cell_type": "code",
   "execution_count": null,
   "metadata": {
    "id": "WAR2Uif4rkCS"
   },
   "outputs": [],
   "source": [
    "plot_summary('outputs/CSVs/e_densenet.csv')"
   ]
  },
  {
   "cell_type": "markdown",
   "metadata": {},
   "source": [
    "### Ensemble"
   ]
  },
  {
   "cell_type": "code",
   "execution_count": null,
   "metadata": {},
   "outputs": [],
   "source": [
    "ensemble = e_ensemble.EnsembleModel(torchvision.models.alexnet(pretrained=True),\n",
    "                                    torchvision.models.resnet18(pretrained=True),\n",
    "                                    torchvision.models.efficientnet_b0(pretrained=True))\n",
    "for param in torchvision.models.alexnet(pretrained=True).parameters():\n",
    "    param.requires_grad = False\n",
    "\n",
    "for param in torchvision.models.resnet18(pretrained=True).parameters():\n",
    "    param.requires_grad = False   \n",
    "\n",
    "for param in torchvision.models.efficientnet_b0(pretrained=True).parameters():\n",
    "    param.requires_grad = False   \n",
    "\n",
    "ensemble= ensemble.to(device)\n",
    "ensemble.cuda()"
   ]
  },
  {
   "cell_type": "code",
   "execution_count": null,
   "metadata": {},
   "outputs": [],
   "source": [
    "e_utils.fit(\n",
    "    epochs=epochs,\n",
    "    model=ensemble,\n",
    "    criterion=criterion,\n",
    "    optimizer=optim.Adam(ensemble.parameters(), lr=3e-5),\n",
    "    train_dl=train_dl,\n",
    "    valid_dl=valid_dl\n",
    ")"
   ]
  },
  {
   "cell_type": "code",
   "execution_count": null,
   "metadata": {},
   "outputs": [],
   "source": [
    "plot_summary('outputs/CSVs/ee_ensemblemodel.csv')"
   ]
  },
  {
   "cell_type": "markdown",
   "metadata": {},
   "source": [
    "### MobileNet_V2"
   ]
  },
  {
   "cell_type": "code",
   "execution_count": null,
   "metadata": {},
   "outputs": [],
   "source": [
    "mobilenet_v2 = e_networks.get_mobilenet_v2(pretrained=True, out_features=4)\n",
    "mobilenet_v2.cuda()"
   ]
  },
  {
   "cell_type": "code",
   "execution_count": null,
   "metadata": {},
   "outputs": [],
   "source": [
    "e_utils.fit(\n",
    "    epochs=epochs,\n",
    "    model=mobilenet_v2,\n",
    "    name=None,\n",
    "    criterion=criterion,\n",
    "    optimizer=optim.Adam(mobilenet_v2.parameters(), lr=3e-5),\n",
    "    train_dl=train_dl,\n",
    "    valid_dl=valid_dl\n",
    ")"
   ]
  },
  {
   "cell_type": "code",
   "execution_count": null,
   "metadata": {},
   "outputs": [],
   "source": [
    "plot_summary('outputs/CSVs/e_mobilenetv2.csv')"
   ]
  },
  {
   "cell_type": "markdown",
   "metadata": {},
   "source": [
    "### SqueezeNet"
   ]
  },
  {
   "cell_type": "code",
   "execution_count": null,
   "metadata": {},
   "outputs": [],
   "source": [
    "squeezenet1_1 = e_networks.get_squeezenet1_1(pretrained=True, out_features=4)\n",
    "squeezenet1_1.cuda()"
   ]
  },
  {
   "cell_type": "code",
   "execution_count": null,
   "metadata": {},
   "outputs": [],
   "source": [
    "e_utils.fit(\n",
    "    epochs=epochs,\n",
    "    model=squeezenet1_1,\n",
    "    name=None,\n",
    "    criterion=criterion,\n",
    "    optimizer=optim.Adam(squeezenet1_1.parameters(), lr=3e-5),\n",
    "    train_dl=train_dl,\n",
    "    valid_dl=valid_dl\n",
    ")"
   ]
  },
  {
   "cell_type": "code",
   "execution_count": null,
   "metadata": {},
   "outputs": [],
   "source": [
    "plot_summary('outputs/CSVs/e_squeezenet.csv')"
   ]
  },
  {
   "cell_type": "markdown",
   "metadata": {},
   "source": [
    "### ShuffleNet"
   ]
  },
  {
   "cell_type": "code",
   "execution_count": null,
   "metadata": {},
   "outputs": [],
   "source": [
    "shufflenet_v2_x1_0 = e_networks.get_shufflenet_v2_x1_0(pretrained=True, out_features=4)\n",
    "shufflenet_v2_x1_0.cuda()"
   ]
  },
  {
   "cell_type": "code",
   "execution_count": null,
   "metadata": {},
   "outputs": [],
   "source": [
    "e_utils.fit(\n",
    "    epochs=epochs,\n",
    "    model=shufflenet_v2_x1_0,\n",
    "    name=None,\n",
    "    criterion=criterion,\n",
    "    optimizer=optim.Adam(shufflenet_v2_x1_0.parameters(), lr=3e-5),\n",
    "    train_dl=train_dl,\n",
    "    valid_dl=valid_dl\n",
    ")"
   ]
  },
  {
   "cell_type": "code",
   "execution_count": null,
   "metadata": {},
   "outputs": [],
   "source": [
    "plot_summary('outputs/CSVs/e_shufflenetv2.csv')"
   ]
  },
  {
   "cell_type": "code",
   "execution_count": null,
   "metadata": {},
   "outputs": [],
   "source": []
  }
 ],
 "metadata": {
  "accelerator": "GPU",
  "colab": {
   "provenance": []
  },
  "gpuClass": "standard",
  "kernelspec": {
   "display_name": "Python 3 (ipykernel)",
   "language": "python",
   "name": "python3"
  },
  "language_info": {
   "codemirror_mode": {
    "name": "ipython",
    "version": 3
   },
   "file_extension": ".py",
   "mimetype": "text/x-python",
   "name": "python",
   "nbconvert_exporter": "python",
   "pygments_lexer": "ipython3",
   "version": "3.9.13"
  },
  "widgets": {
   "application/vnd.jupyter.widget-state+json": {
    "46b59c2f3d28425cbdc311b2ca2ed9e7": {
     "model_module": "@jupyter-widgets/controls",
     "model_module_version": "1.5.0",
     "model_name": "DescriptionStyleModel",
     "state": {
      "_model_module": "@jupyter-widgets/controls",
      "_model_module_version": "1.5.0",
      "_model_name": "DescriptionStyleModel",
      "_view_count": null,
      "_view_module": "@jupyter-widgets/base",
      "_view_module_version": "1.2.0",
      "_view_name": "StyleView",
      "description_width": ""
     }
    },
    "4a89cec2aebb4543be4ee93734f9ed83": {
     "model_module": "@jupyter-widgets/controls",
     "model_module_version": "1.5.0",
     "model_name": "HTMLModel",
     "state": {
      "_dom_classes": [],
      "_model_module": "@jupyter-widgets/controls",
      "_model_module_version": "1.5.0",
      "_model_name": "HTMLModel",
      "_view_count": null,
      "_view_module": "@jupyter-widgets/controls",
      "_view_module_version": "1.5.0",
      "_view_name": "HTMLView",
      "description": "",
      "description_tooltip": null,
      "layout": "IPY_MODEL_535aeb8c4006421f991c2492162d883d",
      "placeholder": "​",
      "style": "IPY_MODEL_46b59c2f3d28425cbdc311b2ca2ed9e7",
      "value": " 44.7M/44.7M [00:00&lt;00:00, 116MB/s]"
     }
    },
    "535aeb8c4006421f991c2492162d883d": {
     "model_module": "@jupyter-widgets/base",
     "model_module_version": "1.2.0",
     "model_name": "LayoutModel",
     "state": {
      "_model_module": "@jupyter-widgets/base",
      "_model_module_version": "1.2.0",
      "_model_name": "LayoutModel",
      "_view_count": null,
      "_view_module": "@jupyter-widgets/base",
      "_view_module_version": "1.2.0",
      "_view_name": "LayoutView",
      "align_content": null,
      "align_items": null,
      "align_self": null,
      "border": null,
      "bottom": null,
      "display": null,
      "flex": null,
      "flex_flow": null,
      "grid_area": null,
      "grid_auto_columns": null,
      "grid_auto_flow": null,
      "grid_auto_rows": null,
      "grid_column": null,
      "grid_gap": null,
      "grid_row": null,
      "grid_template_areas": null,
      "grid_template_columns": null,
      "grid_template_rows": null,
      "height": null,
      "justify_content": null,
      "justify_items": null,
      "left": null,
      "margin": null,
      "max_height": null,
      "max_width": null,
      "min_height": null,
      "min_width": null,
      "object_fit": null,
      "object_position": null,
      "order": null,
      "overflow": null,
      "overflow_x": null,
      "overflow_y": null,
      "padding": null,
      "right": null,
      "top": null,
      "visibility": null,
      "width": null
     }
    },
    "5a4b80ffbe154ec890d5855360823064": {
     "model_module": "@jupyter-widgets/base",
     "model_module_version": "1.2.0",
     "model_name": "LayoutModel",
     "state": {
      "_model_module": "@jupyter-widgets/base",
      "_model_module_version": "1.2.0",
      "_model_name": "LayoutModel",
      "_view_count": null,
      "_view_module": "@jupyter-widgets/base",
      "_view_module_version": "1.2.0",
      "_view_name": "LayoutView",
      "align_content": null,
      "align_items": null,
      "align_self": null,
      "border": null,
      "bottom": null,
      "display": null,
      "flex": null,
      "flex_flow": null,
      "grid_area": null,
      "grid_auto_columns": null,
      "grid_auto_flow": null,
      "grid_auto_rows": null,
      "grid_column": null,
      "grid_gap": null,
      "grid_row": null,
      "grid_template_areas": null,
      "grid_template_columns": null,
      "grid_template_rows": null,
      "height": null,
      "justify_content": null,
      "justify_items": null,
      "left": null,
      "margin": null,
      "max_height": null,
      "max_width": null,
      "min_height": null,
      "min_width": null,
      "object_fit": null,
      "object_position": null,
      "order": null,
      "overflow": null,
      "overflow_x": null,
      "overflow_y": null,
      "padding": null,
      "right": null,
      "top": null,
      "visibility": null,
      "width": null
     }
    },
    "5b1162275d7e4c66b387ff4c104a50a5": {
     "model_module": "@jupyter-widgets/base",
     "model_module_version": "1.2.0",
     "model_name": "LayoutModel",
     "state": {
      "_model_module": "@jupyter-widgets/base",
      "_model_module_version": "1.2.0",
      "_model_name": "LayoutModel",
      "_view_count": null,
      "_view_module": "@jupyter-widgets/base",
      "_view_module_version": "1.2.0",
      "_view_name": "LayoutView",
      "align_content": null,
      "align_items": null,
      "align_self": null,
      "border": null,
      "bottom": null,
      "display": null,
      "flex": null,
      "flex_flow": null,
      "grid_area": null,
      "grid_auto_columns": null,
      "grid_auto_flow": null,
      "grid_auto_rows": null,
      "grid_column": null,
      "grid_gap": null,
      "grid_row": null,
      "grid_template_areas": null,
      "grid_template_columns": null,
      "grid_template_rows": null,
      "height": null,
      "justify_content": null,
      "justify_items": null,
      "left": null,
      "margin": null,
      "max_height": null,
      "max_width": null,
      "min_height": null,
      "min_width": null,
      "object_fit": null,
      "object_position": null,
      "order": null,
      "overflow": null,
      "overflow_x": null,
      "overflow_y": null,
      "padding": null,
      "right": null,
      "top": null,
      "visibility": null,
      "width": null
     }
    },
    "77a9ace793034be89642a0ffc603aeae": {
     "model_module": "@jupyter-widgets/controls",
     "model_module_version": "1.5.0",
     "model_name": "FloatProgressModel",
     "state": {
      "_dom_classes": [],
      "_model_module": "@jupyter-widgets/controls",
      "_model_module_version": "1.5.0",
      "_model_name": "FloatProgressModel",
      "_view_count": null,
      "_view_module": "@jupyter-widgets/controls",
      "_view_module_version": "1.5.0",
      "_view_name": "ProgressView",
      "bar_style": "success",
      "description": "",
      "description_tooltip": null,
      "layout": "IPY_MODEL_f40d3933bd2d43059f685e81a59487ed",
      "max": 46830571,
      "min": 0,
      "orientation": "horizontal",
      "style": "IPY_MODEL_bf98834b82374cdfb5065f7e91eced33",
      "value": 46830571
     }
    },
    "94a4b789b22e46149f4e56c809bc3dbb": {
     "model_module": "@jupyter-widgets/controls",
     "model_module_version": "1.5.0",
     "model_name": "HTMLModel",
     "state": {
      "_dom_classes": [],
      "_model_module": "@jupyter-widgets/controls",
      "_model_module_version": "1.5.0",
      "_model_name": "HTMLModel",
      "_view_count": null,
      "_view_module": "@jupyter-widgets/controls",
      "_view_module_version": "1.5.0",
      "_view_name": "HTMLView",
      "description": "",
      "description_tooltip": null,
      "layout": "IPY_MODEL_5a4b80ffbe154ec890d5855360823064",
      "placeholder": "​",
      "style": "IPY_MODEL_b262ae7d78534e679e24c917ceb7d91f",
      "value": "100%"
     }
    },
    "b262ae7d78534e679e24c917ceb7d91f": {
     "model_module": "@jupyter-widgets/controls",
     "model_module_version": "1.5.0",
     "model_name": "DescriptionStyleModel",
     "state": {
      "_model_module": "@jupyter-widgets/controls",
      "_model_module_version": "1.5.0",
      "_model_name": "DescriptionStyleModel",
      "_view_count": null,
      "_view_module": "@jupyter-widgets/base",
      "_view_module_version": "1.2.0",
      "_view_name": "StyleView",
      "description_width": ""
     }
    },
    "bf98834b82374cdfb5065f7e91eced33": {
     "model_module": "@jupyter-widgets/controls",
     "model_module_version": "1.5.0",
     "model_name": "ProgressStyleModel",
     "state": {
      "_model_module": "@jupyter-widgets/controls",
      "_model_module_version": "1.5.0",
      "_model_name": "ProgressStyleModel",
      "_view_count": null,
      "_view_module": "@jupyter-widgets/base",
      "_view_module_version": "1.2.0",
      "_view_name": "StyleView",
      "bar_color": null,
      "description_width": ""
     }
    },
    "d282b59c4b63474a86739fe9901be25f": {
     "model_module": "@jupyter-widgets/controls",
     "model_module_version": "1.5.0",
     "model_name": "HBoxModel",
     "state": {
      "_dom_classes": [],
      "_model_module": "@jupyter-widgets/controls",
      "_model_module_version": "1.5.0",
      "_model_name": "HBoxModel",
      "_view_count": null,
      "_view_module": "@jupyter-widgets/controls",
      "_view_module_version": "1.5.0",
      "_view_name": "HBoxView",
      "box_style": "",
      "children": [
       "IPY_MODEL_94a4b789b22e46149f4e56c809bc3dbb",
       "IPY_MODEL_77a9ace793034be89642a0ffc603aeae",
       "IPY_MODEL_4a89cec2aebb4543be4ee93734f9ed83"
      ],
      "layout": "IPY_MODEL_5b1162275d7e4c66b387ff4c104a50a5"
     }
    },
    "f40d3933bd2d43059f685e81a59487ed": {
     "model_module": "@jupyter-widgets/base",
     "model_module_version": "1.2.0",
     "model_name": "LayoutModel",
     "state": {
      "_model_module": "@jupyter-widgets/base",
      "_model_module_version": "1.2.0",
      "_model_name": "LayoutModel",
      "_view_count": null,
      "_view_module": "@jupyter-widgets/base",
      "_view_module_version": "1.2.0",
      "_view_name": "LayoutView",
      "align_content": null,
      "align_items": null,
      "align_self": null,
      "border": null,
      "bottom": null,
      "display": null,
      "flex": null,
      "flex_flow": null,
      "grid_area": null,
      "grid_auto_columns": null,
      "grid_auto_flow": null,
      "grid_auto_rows": null,
      "grid_column": null,
      "grid_gap": null,
      "grid_row": null,
      "grid_template_areas": null,
      "grid_template_columns": null,
      "grid_template_rows": null,
      "height": null,
      "justify_content": null,
      "justify_items": null,
      "left": null,
      "margin": null,
      "max_height": null,
      "max_width": null,
      "min_height": null,
      "min_width": null,
      "object_fit": null,
      "object_position": null,
      "order": null,
      "overflow": null,
      "overflow_x": null,
      "overflow_y": null,
      "padding": null,
      "right": null,
      "top": null,
      "visibility": null,
      "width": null
     }
    }
   }
  }
 },
 "nbformat": 4,
 "nbformat_minor": 4
}
