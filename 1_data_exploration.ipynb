{
 "cells": [
  {
   "cell_type": "code",
   "execution_count": 1,
   "metadata": {},
   "outputs": [
    {
     "ename": "ModuleNotFoundError",
     "evalue": "No module named 'torch'",
     "output_type": "error",
     "traceback": [
      "\u001b[1;31m---------------------------------------------------------------------------\u001b[0m",
      "\u001b[1;31mModuleNotFoundError\u001b[0m                       Traceback (most recent call last)",
      "\u001b[1;32m~\\AppData\\Local\\Temp\\ipykernel_21848\\612408816.py\u001b[0m in \u001b[0;36m<module>\u001b[1;34m\u001b[0m\n\u001b[1;32m----> 1\u001b[1;33m \u001b[1;32mimport\u001b[0m \u001b[0mtorch\u001b[0m\u001b[1;33m\u001b[0m\u001b[1;33m\u001b[0m\u001b[0m\n\u001b[0m\u001b[0;32m      2\u001b[0m \u001b[1;32mimport\u001b[0m \u001b[0mtorchvision\u001b[0m\u001b[1;33m.\u001b[0m\u001b[0mtransforms\u001b[0m \u001b[1;32mas\u001b[0m \u001b[0mtransforms\u001b[0m\u001b[1;33m\u001b[0m\u001b[1;33m\u001b[0m\u001b[0m\n\u001b[0;32m      3\u001b[0m \u001b[1;32mimport\u001b[0m \u001b[0mtorchvision\u001b[0m\u001b[1;33m.\u001b[0m\u001b[0mdatasets\u001b[0m \u001b[1;32mas\u001b[0m \u001b[0mdatasets\u001b[0m\u001b[1;33m\u001b[0m\u001b[1;33m\u001b[0m\u001b[0m\n\u001b[0;32m      4\u001b[0m \u001b[1;33m\u001b[0m\u001b[0m\n\u001b[0;32m      5\u001b[0m \u001b[1;32mimport\u001b[0m \u001b[0mnumpy\u001b[0m \u001b[1;32mas\u001b[0m \u001b[0mnp\u001b[0m\u001b[1;33m\u001b[0m\u001b[1;33m\u001b[0m\u001b[0m\n",
      "\u001b[1;31mModuleNotFoundError\u001b[0m: No module named 'torch'"
     ]
    }
   ],
   "source": [
    "import torch\n",
    "import torchvision.transforms as transforms\n",
    "import torchvision.datasets as datasets\n",
    "\n",
    "import numpy as np\n",
    "import matplotlib.pyplot as plt"
   ]
  },
  {
   "cell_type": "code",
   "execution_count": null,
   "metadata": {},
   "outputs": [],
   "source": [
    "dirs = {\n",
    "    'train': 'data/COVID-19_Radiography_Dataset/train',\n",
    "    'val': 'data/COVID-19_Radiography_Dataset/val',\n",
    "    'test': 'data/COVID-19_Radiography_Dataset/test'\n",
    "}\n",
    "\n",
    "train_set = datasets.ImageFolder(root=dirs['train'], transform=transforms.ToTensor())\n",
    "val_set = datasets.ImageFolder(root=dirs['val'], transform=transforms.ToTensor())\n",
    "test_set = datasets.ImageFolder(root=dirs['test'], transform=transforms.ToTensor())\n",
    "train_loader = torch.utils.data.DataLoader(train_set, batch_size=16, shuffle=True, num_workers=2)"
   ]
  },
  {
   "cell_type": "code",
   "execution_count": null,
   "metadata": {},
   "outputs": [],
   "source": [
    "train_set.classes"
   ]
  },
  {
   "cell_type": "code",
   "execution_count": null,
   "metadata": {},
   "outputs": [],
   "source": [
    "train_set.class_to_idx"
   ]
  },
  {
   "cell_type": "code",
   "execution_count": null,
   "metadata": {},
   "outputs": [],
   "source": [
    "print(f'Number of Images in Train Set: {len(train_set)}')\n",
    "print(f'Number of Images in Validation Set: {len(val_set)}')\n",
    "print(f'Number of Images in Test Set: {len(test_set)}')"
   ]
  },
  {
   "cell_type": "code",
   "execution_count": null,
   "metadata": {},
   "outputs": [],
   "source": [
    "images, labels = next(iter(train_loader))\n",
    "images = images.numpy()\n",
    "\n",
    "fig = plt.figure(figsize=(20, 4))\n",
    "for i in np.arange(16):\n",
    "    ax = fig.add_subplot(2, 8, i+1)\n",
    "    ax.axis('off')\n",
    "    image = np.squeeze(np.transpose(images[i], (1, 2, 0)))\n",
    "    ax.imshow(image)\n",
    "    ax.set_title(train_set.classes[labels[i].item()])\n",
    "\n",
    "plt.show()\n",
    "fig.savefig('outputs/images/samples.png', bbox_inches='tight')\n",
    "plt.close()"
   ]
  },
  {
   "cell_type": "code",
   "execution_count": null,
   "metadata": {},
   "outputs": [],
   "source": [
    "freq_train = torch.as_tensor(train_set.targets).bincount()\n",
    "freq_val = torch.as_tensor(val_set.targets).bincount()\n",
    "freq_test = torch.as_tensor(test_set.targets).bincount()\n",
    "freq_all = freq_train + freq_test + freq_val"
   ]
  },
  {
   "cell_type": "code",
   "execution_count": null,
   "metadata": {},
   "outputs": [],
   "source": [
    "def log_freq(dset, dfreq):\n",
    "    for c, i in dset.class_to_idx.items():\n",
    "        print(f'Number of {c.capitalize()} X-Rays: {dfreq[i].item()}')"
   ]
  },
  {
   "cell_type": "code",
   "execution_count": null,
   "metadata": {},
   "outputs": [],
   "source": [
    "print('========== Train Set ==========')\n",
    "log_freq(train_set, freq_train)\n",
    "print('======== Validation Set ========')\n",
    "log_freq(val_set, freq_val)\n",
    "print('=========== Test Set ===========')\n",
    "log_freq(test_set, freq_test)"
   ]
  },
  {
   "cell_type": "code",
   "execution_count": null,
   "metadata": {},
   "outputs": [],
   "source": [
    "plt.style.use('seaborn-notebook')\n",
    "\n",
    "plt.bar(train_set.classes, freq_all.numpy(), width=0.4)\n",
    "\n",
    "for i, v in enumerate(freq_all.numpy()):\n",
    "    plt.text(i-.2, v+100, str(v), fontweight='bold')\n",
    "\n",
    "plt.xlabel('Classes', fontweight='bold')\n",
    "plt.ylabel('Number of X-Rays', fontweight='bold')\n",
    "plt.title('Per-class frequency', fontweight='bold')\n",
    "\n",
    "plt.tight_layout()\n",
    "plt.savefig('outputs/images/class_freq.png')\n",
    "\n",
    "plt.show()\n",
    "plt.close()"
   ]
  }
 ],
 "metadata": {
  "kernelspec": {
   "display_name": "Python 3 (ipykernel)",
   "language": "python",
   "name": "python3"
  },
  "language_info": {
   "codemirror_mode": {
    "name": "ipython",
    "version": 3
   },
   "file_extension": ".py",
   "mimetype": "text/x-python",
   "name": "python",
   "nbconvert_exporter": "python",
   "pygments_lexer": "ipython3",
   "version": "3.9.13"
  }
 },
 "nbformat": 4,
 "nbformat_minor": 2
}
