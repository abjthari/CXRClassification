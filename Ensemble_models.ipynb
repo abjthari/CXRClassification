{
 "cells": [
  {
   "cell_type": "code",
   "execution_count": 3,
   "id": "f7975958",
   "metadata": {},
   "outputs": [],
   "source": [
    "import torch.nn as nn\n",
    "import torch\n",
    "\n",
    "\n",
    "class MyEnsemble(nn.Module):\n",
    "\n",
    "    def __init__(self, modelA, modelB, modelC, input):\n",
    "        super(MyEnsemble, self).__init__()\n",
    "        self.modelA = modelA\n",
    "        self.modelB = modelB\n",
    "        self.modelC = modelC\n",
    "\n",
    "        self.fc1 = nn.Linear(input, 16)\n",
    "\n",
    "    def forward(self, x):\n",
    "        out1 = self.modelA(x)\n",
    "        out2 = self.modelB(x)\n",
    "        out3 = self.modelC(x)\n",
    "\n",
    "        out = out1 + out2 + out3\n",
    "\n",
    "        x = self.fc1(out)\n",
    "        return torch.softmax(x, dim=1)"
   ]
  },
  {
   "cell_type": "code",
   "execution_count": null,
   "id": "d09be47b",
   "metadata": {},
   "outputs": [],
   "source": [
    "model = MyEnsemble(densenet, resnet, incept, 16)"
   ]
  }
 ],
 "metadata": {
  "kernelspec": {
   "display_name": "Python 3 (ipykernel)",
   "language": "python",
   "name": "python3"
  },
  "language_info": {
   "codemirror_mode": {
    "name": "ipython",
    "version": 3
   },
   "file_extension": ".py",
   "mimetype": "text/x-python",
   "name": "python",
   "nbconvert_exporter": "python",
   "pygments_lexer": "ipython3",
   "version": "3.9.13"
  }
 },
 "nbformat": 4,
 "nbformat_minor": 5
}
